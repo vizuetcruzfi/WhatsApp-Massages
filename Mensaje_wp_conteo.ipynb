{
 "cells": [
  {
   "cell_type": "code",
   "execution_count": 1,
   "metadata": {},
   "outputs": [],
   "source": [
    "# librerias\n",
    "\n",
    "import pywhatkit\n",
    "import time"
   ]
  },
  {
   "cell_type": "code",
   "execution_count": 2,
   "metadata": {},
   "outputs": [],
   "source": [
    "# Configuración de WhatsApp\n",
    "to_whatsapp_number = \"+5215620588185\"  # Cambia al número de destino"
   ]
  },
  {
   "cell_type": "code",
   "execution_count": 3,
   "metadata": {},
   "outputs": [],
   "source": [
    "# send_whatsapp_massage Function\n",
    "\n",
    "def send_whatsapp_message(message):\n",
    "    # Horas y minutos actuales\n",
    "    current_hour = int(time.strftime('%H'))\n",
    "    current_minute = int(time.strftime('%M')) + 1\n",
    "    # Enviar mensaje\n",
    "    pywhatkit.sendwhatmsg(to_whatsapp_number, message, current_hour, current_minute)\n",
    "    time.sleep(20)  # Espera 20 segundos entre mensajes para evitar bloqueos"
   ]
  },
  {
   "cell_type": "code",
   "execution_count": 4,
   "metadata": {},
   "outputs": [],
   "source": [
    "# count_and_send_numbers Function\n",
    "\n",
    "def count_and_send_numbers(max_number, step):\n",
    "    for number in range(0, max_number + 1, step):\n",
    "        message = f\"{number}\"\n",
    "        print(\"Enviando:\", message)\n",
    "        send_whatsapp_message(message)\n",
    "        time.sleep(60)  # Pausa de 60 segundos para evitar sobrecargar el servicio"
   ]
  },
  {
   "cell_type": "code",
   "execution_count": 5,
   "metadata": {},
   "outputs": [
    {
     "name": "stdout",
     "output_type": "stream",
     "text": [
      "Enviando: 0\n",
      "In 40 Seconds WhatsApp will open and after 15 Seconds Message will be Delivered!\n",
      "Enviando: 5\n",
      "In 24 Seconds WhatsApp will open and after 15 Seconds Message will be Delivered!\n",
      "Enviando: 10\n",
      "In 24 Seconds WhatsApp will open and after 15 Seconds Message will be Delivered!\n",
      "Enviando: 15\n",
      "In 25 Seconds WhatsApp will open and after 15 Seconds Message will be Delivered!\n",
      "Enviando: 20\n",
      "In 25 Seconds WhatsApp will open and after 15 Seconds Message will be Delivered!\n"
     ]
    }
   ],
   "source": [
    "# Configura los siguientes valores\n",
    "\n",
    "max_number = 150  # hasta qué número contar\n",
    "step = 5         # de cuánto en cuánto contar\n",
    "\n",
    "count_and_send_numbers(max_number, step)"
   ]
  }
 ],
 "metadata": {
  "kernelspec": {
   "display_name": "Python 3",
   "language": "python",
   "name": "python3"
  },
  "language_info": {
   "codemirror_mode": {
    "name": "ipython",
    "version": 3
   },
   "file_extension": ".py",
   "mimetype": "text/x-python",
   "name": "python",
   "nbconvert_exporter": "python",
   "pygments_lexer": "ipython3",
   "version": "3.12.1"
  }
 },
 "nbformat": 4,
 "nbformat_minor": 2
}
