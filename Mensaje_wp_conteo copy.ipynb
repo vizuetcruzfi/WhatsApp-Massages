{
 "cells": [
  {
   "cell_type": "code",
   "execution_count": 14,
   "metadata": {},
   "outputs": [],
   "source": [
    "from selenium import webdriver\n",
    "from selenium.webdriver.common.keys import Keys\n",
    "from selenium.webdriver.common.by import By\n",
    "from selenium.webdriver.chrome.service import Service\n",
    "from selenium.webdriver.support.ui import WebDriverWait\n",
    "from selenium.webdriver.support import expected_conditions as EC\n",
    "import time"
   ]
  },
  {
   "cell_type": "code",
   "execution_count": 15,
   "metadata": {},
   "outputs": [
    {
     "name": "stderr",
     "output_type": "stream",
     "text": [
      "<>:2: SyntaxWarning: invalid escape sequence '\\c'\n",
      "<>:2: SyntaxWarning: invalid escape sequence '\\c'\n",
      "C:\\Users\\10\\AppData\\Local\\Temp\\ipykernel_12976\\2070649798.py:2: SyntaxWarning: invalid escape sequence '\\c'\n",
      "  driver_path = 'chromedriver-win64\\chromedriver.exe'\n"
     ]
    },
    {
     "data": {
      "text/plain": [
       "''"
      ]
     },
     "execution_count": 15,
     "metadata": {},
     "output_type": "execute_result"
    }
   ],
   "source": [
    "# Configuración del navegador\n",
    "driver_path = 'chromedriver-win64\\chromedriver.exe'\n",
    "service = Service(driver_path)\n",
    "driver = webdriver.Chrome(service=service)\n",
    "driver.get('https://web.whatsapp.com/')\n",
    "\n",
    "# Espera a que el usuario escanee el código QR\n",
    "input(\"Presiona Enter después de escanear el código QR con tu móvil...\")"
   ]
  },
  {
   "cell_type": "code",
   "execution_count": 16,
   "metadata": {},
   "outputs": [
    {
     "name": "stdout",
     "output_type": "stream",
     "text": [
      "Enviando: Contando: 0\n",
      "Error al enviar mensaje: Message: \n",
      "Stacktrace:\n",
      "\tGetHandleVerifier [0x00007FF7AA9B7032+63090]\n",
      "\t(No symbol) [0x00007FF7AA922C82]\n",
      "\t(No symbol) [0x00007FF7AA7BEC65]\n",
      "\t(No symbol) [0x00007FF7AA80499D]\n",
      "\t(No symbol) [0x00007FF7AA804ADC]\n",
      "\t(No symbol) [0x00007FF7AA845B37]\n",
      "\t(No symbol) [0x00007FF7AA82701F]\n",
      "\t(No symbol) [0x00007FF7AA843412]\n",
      "\t(No symbol) [0x00007FF7AA826D83]\n",
      "\t(No symbol) [0x00007FF7AA7F83A8]\n",
      "\t(No symbol) [0x00007FF7AA7F9441]\n",
      "\tGetHandleVerifier [0x00007FF7AADB25AD+4238317]\n",
      "\tGetHandleVerifier [0x00007FF7AADEF70D+4488525]\n",
      "\tGetHandleVerifier [0x00007FF7AADE79EF+4456495]\n",
      "\tGetHandleVerifier [0x00007FF7AAA90576+953270]\n",
      "\t(No symbol) [0x00007FF7AA92E54F]\n",
      "\t(No symbol) [0x00007FF7AA929224]\n",
      "\t(No symbol) [0x00007FF7AA92935B]\n",
      "\t(No symbol) [0x00007FF7AA919B94]\n",
      "\tBaseThreadInitThunk [0x00007FFBD0727344+20]\n",
      "\tRtlUserThreadStart [0x00007FFBD08626B1+33]\n",
      "\n",
      "Enviando: Contando: 5\n",
      "Error al enviar mensaje: Message: \n",
      "Stacktrace:\n",
      "\tGetHandleVerifier [0x00007FF7AA9B7032+63090]\n",
      "\t(No symbol) [0x00007FF7AA922C82]\n",
      "\t(No symbol) [0x00007FF7AA7BEC65]\n",
      "\t(No symbol) [0x00007FF7AA80499D]\n",
      "\t(No symbol) [0x00007FF7AA804ADC]\n",
      "\t(No symbol) [0x00007FF7AA845B37]\n",
      "\t(No symbol) [0x00007FF7AA82701F]\n",
      "\t(No symbol) [0x00007FF7AA843412]\n",
      "\t(No symbol) [0x00007FF7AA826D83]\n",
      "\t(No symbol) [0x00007FF7AA7F83A8]\n",
      "\t(No symbol) [0x00007FF7AA7F9441]\n",
      "\tGetHandleVerifier [0x00007FF7AADB25AD+4238317]\n",
      "\tGetHandleVerifier [0x00007FF7AADEF70D+4488525]\n",
      "\tGetHandleVerifier [0x00007FF7AADE79EF+4456495]\n",
      "\tGetHandleVerifier [0x00007FF7AAA90576+953270]\n",
      "\t(No symbol) [0x00007FF7AA92E54F]\n",
      "\t(No symbol) [0x00007FF7AA929224]\n",
      "\t(No symbol) [0x00007FF7AA92935B]\n",
      "\t(No symbol) [0x00007FF7AA919B94]\n",
      "\tBaseThreadInitThunk [0x00007FFBD0727344+20]\n",
      "\tRtlUserThreadStart [0x00007FFBD08626B1+33]\n",
      "\n",
      "Enviando: Contando: 10\n",
      "Error al enviar mensaje: 'NoneType' object has no attribute 'is_displayed'\n"
     ]
    }
   ],
   "source": [
    "# Function\n",
    "\n",
    "def send_whatsapp_message(phone_number, message):\n",
    "    try:\n",
    "        driver.get(f'https://web.whatsapp.com/send?phone={phone_number}&text&app_absent=0')\n",
    "        send_btn = WebDriverWait(driver, 20).until(\n",
    "            EC.element_to_be_clickable((By.XPATH, '//button[@data-testid=\"compose-btn-send\"]'))\n",
    "        )\n",
    "        send_btn.click()\n",
    "    except Exception as e:\n",
    "        print(f\"Error al enviar mensaje: {e}\")\n",
    "\n",
    "def count_and_send_numbers(max_number, step, phone_number):\n",
    "    for number in range(0, max_number + 1, step):\n",
    "        message = f\"Contando: {number}\"\n",
    "        print(\"Enviando:\", message)\n",
    "        send_whatsapp_message(phone_number, message)\n",
    "        time.sleep(10)  # Pausa para evitar sobrecargas o bloqueos\n",
    "\n",
    "# Configura los siguientes valores\n",
    "max_number = 10  # hasta qué número contar\n",
    "step = 5         # de cuánto en cuánto contar\n",
    "phone_number = '\n",
    "'  # Cambia al número de destino con código de país\n",
    "\n",
    "count_and_send_numbers(max_number, step, phone_number)\n"
   ]
  }
 ],
 "metadata": {
  "kernelspec": {
   "display_name": "Python 3",
   "language": "python",
   "name": "python3"
  },
  "language_info": {
   "codemirror_mode": {
    "name": "ipython",
    "version": 3
   },
   "file_extension": ".py",
   "mimetype": "text/x-python",
   "name": "python",
   "nbconvert_exporter": "python",
   "pygments_lexer": "ipython3",
   "version": "3.12.1"
  }
 },
 "nbformat": 4,
 "nbformat_minor": 2
}
